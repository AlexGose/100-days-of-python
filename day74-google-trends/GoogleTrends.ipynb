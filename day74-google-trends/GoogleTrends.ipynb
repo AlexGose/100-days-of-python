{
  "cells": [
    {
      "cell_type": "markdown",
      "metadata": {
        "id": "3qFzxjhJ3nx-"
      },
      "source": [
        "# Introduction"
      ]
    },
    {
      "cell_type": "markdown",
      "metadata": {
        "id": "XvJEfDau3nx_"
      },
      "source": [
        "Google Trends gives us an estimate of search volume. Let's explore if search popularity relates to other kinds of data. Perhaps there are patterns in Google's search volume and the price of Bitcoin or a hot stock like Tesla. Perhaps search volume for the term \"Unemployment Benefits\" can tell us something about the actual unemployment rate?\n",
        "\n",
        "Data Sources: <br>\n",
        "<ul>\n",
        "<li> <a href=\"https://fred.stlouisfed.org/series/UNRATE/\">Unemployment Rate from FRED</a></li>\n",
        "<li> <a href=\"https://trends.google.com/trends/explore\">Google Trends</a> </li>  \n",
        "<li> <a href=\"https://finance.yahoo.com/quote/TSLA/history?p=TSLA\">Yahoo Finance for Tesla Stock Price</a> </li>    \n",
        "<li> <a href=\"https://finance.yahoo.com/quote/BTC-USD/history?p=BTC-USD\">Yahoo Finance for Bitcoin Stock Price</a> </li>\n",
        "</ul>"
      ]
    },
    {
      "cell_type": "markdown",
      "metadata": {
        "id": "adnZOP5O3nyA"
      },
      "source": [
        "# Import Statements"
      ]
    },
    {
      "cell_type": "code",
      "execution_count": 1,
      "metadata": {
        "id": "21DTnpIH3nyA"
      },
      "outputs": [],
      "source": [
        "import pandas as pd\n",
        "import matplotlib.pyplot as plt"
      ]
    },
    {
      "cell_type": "markdown",
      "metadata": {
        "id": "JQs3wDFK3nyB"
      },
      "source": [
        "# Read the Data\n",
        "\n",
        "Download and add the .csv files to the same folder as your notebook."
      ]
    },
    {
      "cell_type": "code",
      "execution_count": 2,
      "metadata": {
        "id": "4CHZ3BEl3nyB"
      },
      "outputs": [],
      "source": [
        "df_tesla = pd.read_csv('TESLA Search Trend vs Price.csv')\n",
        "\n",
        "df_btc_search = pd.read_csv('Bitcoin Search Trend.csv')\n",
        "df_btc_price = pd.read_csv('Daily Bitcoin Price.csv')\n",
        "\n",
        "df_unemployment = pd.read_csv('UE Benefits Search vs UE Rate 2004-19.csv')"
      ]
    },
    {
      "cell_type": "markdown",
      "metadata": {
        "id": "E8ITKnC43nyB"
      },
      "source": [
        "# Data Exploration"
      ]
    },
    {
      "cell_type": "markdown",
      "metadata": {
        "id": "RnFG7FC23nyC"
      },
      "source": [
        "### Tesla"
      ]
    },
    {
      "cell_type": "markdown",
      "metadata": {
        "id": "tfk-rhO43nyC"
      },
      "source": [
        "**Challenge**: <br>\n",
        "<ul>\n",
        "<li>What are the shapes of the dataframes? </li>\n",
        "<li>How many rows and columns? </li>\n",
        "<li>What are the column names? </li>\n",
        "<li>Complete the f-string to show the largest/smallest number in the search data column</li>\n",
        "<li>Try the <code>.describe()</code> function to see some useful descriptive statistics</li>\n",
        "<li>What is the periodicity of the time series data (daily, weekly, monthly)? </li>\n",
        "<li>What does a value of 100 in the Google Trend search popularity actually mean?</li>\n",
        "</ul>"
      ]
    },
    {
      "cell_type": "code",
      "execution_count": null,
      "metadata": {
        "id": "8m0yfKIX3nyC"
      },
      "outputs": [],
      "source": [
        "df_tesla.shape"
      ]
    },
    {
      "cell_type": "code",
      "source": [
        "df_tesla.head()"
      ],
      "metadata": {
        "id": "0eXVWGm-5t-3"
      },
      "execution_count": null,
      "outputs": []
    },
    {
      "cell_type": "code",
      "source": [
        "df_tesla.describe()"
      ],
      "metadata": {
        "id": "HXt_W6t94WZG"
      },
      "execution_count": null,
      "outputs": []
    },
    {
      "cell_type": "code",
      "execution_count": null,
      "metadata": {
        "id": "JbPQ1idI3nyD"
      },
      "outputs": [],
      "source": [
        "print(f'Largest value for Tesla in Web Search: {df_tesla[\"TSLA_WEB_SEARCH\"].max()}')\n",
        "print(f'Smallest value for Tesla in Web Search: {df_tesla[\"TSLA_WEB_SEARCH\"].min()}')"
      ]
    },
    {
      "cell_type": "code",
      "execution_count": 6,
      "metadata": {
        "id": "6bClm9Yh3nyD"
      },
      "outputs": [],
      "source": []
    },
    {
      "cell_type": "markdown",
      "metadata": {
        "id": "XSKkRo3j3nyE"
      },
      "source": [
        "### Unemployment Data"
      ]
    },
    {
      "cell_type": "code",
      "execution_count": null,
      "metadata": {
        "id": "lsnD6Ln53nyE"
      },
      "outputs": [],
      "source": [
        "df_unemployment.shape"
      ]
    },
    {
      "cell_type": "code",
      "source": [
        "df_unemployment.head()"
      ],
      "metadata": {
        "id": "AkLVuq4cLtgM"
      },
      "execution_count": null,
      "outputs": []
    },
    {
      "cell_type": "code",
      "source": [
        "df_unemployment.describe()"
      ],
      "metadata": {
        "id": "17-s5OxaMLse"
      },
      "execution_count": null,
      "outputs": []
    },
    {
      "cell_type": "code",
      "execution_count": null,
      "metadata": {
        "id": "-GZO50bR3nyE"
      },
      "outputs": [],
      "source": [
        "print('Largest value for \"Unemployemnt Benefits\" '\n",
        "      f'in Web Search: {df_unemployment[\"UE_BENEFITS_WEB_SEARCH\"].max()}')"
      ]
    },
    {
      "cell_type": "markdown",
      "metadata": {
        "id": "WRudWYn23nyE"
      },
      "source": [
        "### Bitcoin"
      ]
    },
    {
      "cell_type": "code",
      "execution_count": null,
      "metadata": {
        "id": "9YRYxeqU3nyE"
      },
      "outputs": [],
      "source": [
        "df_btc_search.shape, df_btc_price.shape"
      ]
    },
    {
      "cell_type": "code",
      "execution_count": null,
      "metadata": {
        "id": "wPxzx4m_3nyE"
      },
      "outputs": [],
      "source": [
        "df_btc_search.head()"
      ]
    },
    {
      "cell_type": "code",
      "source": [
        "df_btc_price.head()"
      ],
      "metadata": {
        "id": "itiYg5G3Mf3k"
      },
      "execution_count": null,
      "outputs": []
    },
    {
      "cell_type": "code",
      "source": [
        "df_btc_search.describe()"
      ],
      "metadata": {
        "id": "eXvzU0-DMipq"
      },
      "execution_count": null,
      "outputs": []
    },
    {
      "cell_type": "code",
      "source": [
        "df_btc_price.describe()"
      ],
      "metadata": {
        "id": "8GXXJgDiMngy"
      },
      "execution_count": null,
      "outputs": []
    },
    {
      "cell_type": "code",
      "execution_count": null,
      "metadata": {
        "id": "ddM4uG7d3nyE"
      },
      "outputs": [],
      "source": [
        "print(f'largest BTC News Search: ')"
      ]
    },
    {
      "cell_type": "markdown",
      "metadata": {
        "id": "qJn9Ok5Q3nyE"
      },
      "source": [
        "# Data Cleaning"
      ]
    },
    {
      "cell_type": "markdown",
      "metadata": {
        "id": "kfwbjJg33nyF"
      },
      "source": [
        "### Check for Missing Values"
      ]
    },
    {
      "cell_type": "markdown",
      "metadata": {
        "id": "THitgFIE3nyF"
      },
      "source": [
        "**Challenge**: Are there any missing values in any of the dataframes? If so, which row/rows have missing values? How many missing values are there?"
      ]
    },
    {
      "cell_type": "code",
      "source": [
        "df_tesla.isna().any(axis=None)"
      ],
      "metadata": {
        "id": "KTVmNZzkOqpV"
      },
      "execution_count": null,
      "outputs": []
    },
    {
      "cell_type": "code",
      "execution_count": null,
      "metadata": {
        "id": "M2NI1maU3nyF"
      },
      "outputs": [],
      "source": [
        "print(f'Missing values for Tesla?: {df_tesla.isna().any(axis=None)}')\n",
        "print(f'Missing values for U/E?: {df_unemployment.isna().any(axis=None)}')\n",
        "print(f'Missing values for BTC Search?: {df_btc_search.isna().any(axis=None)}')"
      ]
    },
    {
      "cell_type": "code",
      "execution_count": null,
      "metadata": {
        "id": "p95z25Vc3nyF"
      },
      "outputs": [],
      "source": [
        "print(f'Missing values for BTC price?: {df_btc_price.isna().any(axis=None)}')"
      ]
    },
    {
      "cell_type": "code",
      "source": [
        "df_btc_price.isna().any(axis=1)"
      ],
      "metadata": {
        "id": "Uzaps4VLwqju"
      },
      "execution_count": null,
      "outputs": []
    },
    {
      "cell_type": "code",
      "execution_count": null,
      "metadata": {
        "id": "NCsWJUV23nyF"
      },
      "outputs": [],
      "source": [
        "print(f'Number of missing values: {df_btc_price.isna().sum()}')"
      ]
    },
    {
      "cell_type": "code",
      "source": [
        "df_btc_price[df_btc_price.isna().any(axis=1)]"
      ],
      "metadata": {
        "id": "lYWKqOKKPyym"
      },
      "execution_count": null,
      "outputs": []
    },
    {
      "cell_type": "markdown",
      "metadata": {
        "id": "jxmzSNGq3nyF"
      },
      "source": [
        "**Challenge**: Remove any missing values that you found."
      ]
    },
    {
      "cell_type": "code",
      "execution_count": 23,
      "metadata": {
        "id": "WnC0jSo53nyF"
      },
      "outputs": [],
      "source": [
        "df_btc_price = df_btc_price.dropna()"
      ]
    },
    {
      "cell_type": "markdown",
      "metadata": {
        "id": "enSBsSw83nyG"
      },
      "source": [
        "### Convert Strings to DateTime Objects"
      ]
    },
    {
      "cell_type": "markdown",
      "metadata": {
        "id": "gZuvpSkW3nyG"
      },
      "source": [
        "**Challenge**: Check the data type of the entries in the DataFrame MONTH or DATE columns. Convert any strings in to Datetime objects. Do this for all 4 DataFrames. Double check if your type conversion was successful."
      ]
    },
    {
      "cell_type": "code",
      "execution_count": null,
      "metadata": {
        "id": "leDP40qu3nyG"
      },
      "outputs": [],
      "source": [
        "type(df_btc_price['DATE'].iloc[0])"
      ]
    },
    {
      "cell_type": "code",
      "source": [
        "df_btc_price['DATE'] = pd.to_datetime(df_btc_price['DATE'])"
      ],
      "metadata": {
        "id": "bxNXV4oym0j7"
      },
      "execution_count": 25,
      "outputs": []
    },
    {
      "cell_type": "code",
      "execution_count": null,
      "metadata": {
        "id": "U9rJ_Q9z3nyG"
      },
      "outputs": [],
      "source": [
        "type(df_btc_search['MONTH'].iloc[0])"
      ]
    },
    {
      "cell_type": "code",
      "source": [
        "df_btc_search['MONTH'] = pd.to_datetime(df_btc_search['MONTH'])"
      ],
      "metadata": {
        "id": "hEor1BWtm-SR"
      },
      "execution_count": 27,
      "outputs": []
    },
    {
      "cell_type": "code",
      "execution_count": null,
      "metadata": {
        "id": "yB_VCJjJ3nyG"
      },
      "outputs": [],
      "source": [
        "type(df_tesla['MONTH'].iloc[0])"
      ]
    },
    {
      "cell_type": "code",
      "source": [
        "df_tesla['MONTH'] = pd.to_datetime(df_tesla['MONTH'])"
      ],
      "metadata": {
        "id": "JcC1KgtSnFeB"
      },
      "execution_count": 29,
      "outputs": []
    },
    {
      "cell_type": "code",
      "source": [
        "type(df_unemployment['MONTH'].iloc[0])"
      ],
      "metadata": {
        "id": "ysoe3p-IltVe"
      },
      "execution_count": null,
      "outputs": []
    },
    {
      "cell_type": "code",
      "source": [
        "df_unemployment['MONTH'] = pd.to_datetime(df_unemployment['MONTH'])"
      ],
      "metadata": {
        "id": "2JPuYaQjnNWr"
      },
      "execution_count": 31,
      "outputs": []
    },
    {
      "cell_type": "markdown",
      "metadata": {
        "id": "hoozXa9f3nyG"
      },
      "source": [
        "### Converting from Daily to Monthly Data\n",
        "\n",
        "[Pandas .resample() documentation](https://pandas.pydata.org/pandas-docs/stable/reference/api/pandas.DataFrame.resample.html) <br>"
      ]
    },
    {
      "cell_type": "code",
      "source": [
        "df_btc_monthly = df_btc_price.resample('M', on='DATE').last()"
      ],
      "metadata": {
        "id": "CZvaAYH2shtP"
      },
      "execution_count": 32,
      "outputs": []
    },
    {
      "cell_type": "code",
      "execution_count": 33,
      "metadata": {
        "id": "nQjTUy6T3nyG"
      },
      "outputs": [],
      "source": [
        "df_btc_monthly = df_btc_price.resample('M', on='DATE').last().reset_index()"
      ]
    },
    {
      "cell_type": "code",
      "source": [
        "df_btc_price.set_index('DATE').resample('M').last().reset_index()"
      ],
      "metadata": {
        "id": "tWDv9yVzqxk5"
      },
      "execution_count": null,
      "outputs": []
    },
    {
      "cell_type": "code",
      "execution_count": null,
      "metadata": {
        "id": "weejLRRk3nyG"
      },
      "outputs": [],
      "source": [
        "df_btc_monthly.shape, df_btc_monthly.head()"
      ]
    },
    {
      "cell_type": "markdown",
      "metadata": {
        "id": "cqtqu5HP3nyG"
      },
      "source": [
        "# Data Visualisation"
      ]
    },
    {
      "cell_type": "markdown",
      "metadata": {
        "id": "0AlBJclH3nyG"
      },
      "source": [
        "### Notebook Formatting & Style Helpers"
      ]
    },
    {
      "cell_type": "code",
      "execution_count": 36,
      "metadata": {
        "id": "SC2ANugQ3nyG"
      },
      "outputs": [],
      "source": [
        "# Create locators for ticks on the time axis"
      ]
    },
    {
      "cell_type": "code",
      "execution_count": 37,
      "metadata": {
        "id": "QiBRu2Qn3nyH"
      },
      "outputs": [],
      "source": [
        "# Register date converters to avoid warning messages"
      ]
    },
    {
      "cell_type": "markdown",
      "metadata": {
        "id": "NAAICQ023nyO"
      },
      "source": [
        "### Tesla Stock Price v.s. Search Volume"
      ]
    },
    {
      "cell_type": "markdown",
      "metadata": {
        "id": "7hqnPna63nyO"
      },
      "source": [
        "**Challenge:** Plot the Tesla stock price against the Tesla search volume using a line chart and two different axes. Label one axis 'TSLA Stock Price' and the other 'Search Trend'."
      ]
    },
    {
      "cell_type": "code",
      "execution_count": null,
      "metadata": {
        "id": "wGFAxIiQ3nyO"
      },
      "outputs": [],
      "source": [
        "fig,ax1 = plt.subplots(figsize=(14,8), dpi=300)\n",
        "ax2 = ax1.twinx()\n",
        "ax1.plot(df_tesla['MONTH'], df_tesla['TSLA_USD_CLOSE'], color='#FF3338', lw=3)\n",
        "ax1.set_ylabel('TSLA Stock Price', color='#FF3338', size=14)\n",
        "ax2.plot(df_tesla['MONTH'], df_tesla['TSLA_WEB_SEARCH'], color='paleturquoise', lw=3)\n",
        "ax2.set_ylabel('Search Trend', color='paleturquoise', size=14);\n",
        "ax1.tick_params(axis='both', labelsize=14)\n",
        "ax1.tick_params(axis='x', rotation=45)\n",
        "ax1.set_ylim(bottom=0, top=600)\n",
        "ax1.set_xlim(left=df_tesla['MONTH'].values[0], right=df_tesla['MONTH'].values[-1])\n",
        "ax2.set_ylim(bottom=0)\n",
        "ax2.tick_params(axis='y', labelsize=14)\n",
        "ax1.set_title('Tesla Web Search vs Price', size=14)\n",
        "plt.show()"
      ]
    },
    {
      "cell_type": "markdown",
      "metadata": {
        "id": "v2X7Tx8Q3nyO"
      },
      "source": [
        "**Challenge**: Add colours to style the chart. This will help differentiate the two lines and the axis labels. Try using one of the blue [colour names](https://matplotlib.org/3.1.1/gallery/color/named_colors.html) for the search volume and a HEX code for a red colour for the stock price.\n",
        "<br>\n",
        "<br>\n",
        "Hint: you can colour both the [axis labels](https://matplotlib.org/3.3.2/api/text_api.html#matplotlib.text.Text) and the [lines](https://matplotlib.org/3.2.1/api/_as_gen/matplotlib.lines.Line2D.html#matplotlib.lines.Line2D) on the chart using keyword arguments (kwargs).  "
      ]
    },
    {
      "cell_type": "code",
      "execution_count": 38,
      "metadata": {
        "id": "6JtJ1L9M3nyP"
      },
      "outputs": [],
      "source": []
    },
    {
      "cell_type": "markdown",
      "metadata": {
        "id": "DWXq-qIp3nyP"
      },
      "source": [
        "**Challenge**: Make the chart larger and easier to read.\n",
        "1. Increase the figure size (e.g., to 14 by 8).\n",
        "2. Increase the font sizes for the labels and the ticks on the x-axis to 14.\n",
        "3. Rotate the text on the x-axis by 45 degrees.\n",
        "4. Make the lines on the chart thicker.\n",
        "5. Add a title that reads 'Tesla Web Search vs Price'\n",
        "6. Keep the chart looking sharp by changing the dots-per-inch or [DPI value](https://matplotlib.org/3.1.1/api/_as_gen/matplotlib.pyplot.figure.html).\n",
        "7. Set minimum and maximum values for the y and x axis. Hint: check out methods like [set_xlim()](https://matplotlib.org/3.1.1/api/_as_gen/matplotlib.axes.Axes.set_xlim.html).\n",
        "8. Finally use [plt.show()](https://matplotlib.org/3.2.1/api/_as_gen/matplotlib.pyplot.show.html) to display the chart below the cell instead of relying on the automatic notebook output."
      ]
    },
    {
      "cell_type": "code",
      "execution_count": 38,
      "metadata": {
        "id": "fFRaYjOD3nyP"
      },
      "outputs": [],
      "source": []
    },
    {
      "cell_type": "markdown",
      "metadata": {
        "id": "Ye2410nj3nyP"
      },
      "source": [
        "How to add tick formatting for dates on the x-axis."
      ]
    },
    {
      "cell_type": "code",
      "execution_count": 38,
      "metadata": {
        "id": "rsvq71ss3nyP"
      },
      "outputs": [],
      "source": []
    },
    {
      "cell_type": "markdown",
      "metadata": {
        "id": "E8-WRwZC3nyP"
      },
      "source": [
        "### Bitcoin (BTC) Price v.s. Search Volume"
      ]
    },
    {
      "cell_type": "markdown",
      "metadata": {
        "id": "NfOmSaRi3nyP"
      },
      "source": [
        "**Challenge**: Create the same chart for the Bitcoin Prices vs. Search volumes. <br>\n",
        "1. Modify the chart title to read 'Bitcoin News Search vs Resampled Price' <br>\n",
        "2. Change the y-axis label to 'BTC Price' <br>\n",
        "3. Change the y- and x-axis limits to improve the appearance <br>\n",
        "4. Investigate the [linestyles](https://matplotlib.org/3.2.1/api/_as_gen/matplotlib.pyplot.plot.html ) to make the BTC price a dashed line <br>\n",
        "5. Investigate the [marker types](https://matplotlib.org/3.2.1/api/markers_api.html) to make the search datapoints little circles <br>\n",
        "6. Were big increases in searches for Bitcoin accompanied by big increases in the price?"
      ]
    },
    {
      "cell_type": "code",
      "execution_count": 38,
      "metadata": {
        "id": "c0sS1H563nyQ"
      },
      "outputs": [],
      "source": []
    },
    {
      "cell_type": "code",
      "execution_count": 38,
      "metadata": {
        "id": "dXaB61_d3nyQ"
      },
      "outputs": [],
      "source": []
    },
    {
      "cell_type": "markdown",
      "metadata": {
        "id": "pPt4WQkD3nyQ"
      },
      "source": [
        "### Unemployement Benefits Search vs. Actual Unemployment in the U.S."
      ]
    },
    {
      "cell_type": "markdown",
      "metadata": {
        "id": "mOHQYuD33nyQ"
      },
      "source": [
        "**Challenge** Plot the search for \"unemployment benefits\" against the unemployment rate.\n",
        "1. Change the title to: Monthly Search of \"Unemployment Benefits\" in the U.S. vs the U/E Rate <br>\n",
        "2. Change the y-axis label to: FRED U/E Rate <br>\n",
        "3. Change the axis limits <br>\n",
        "4. Add a grey [grid](https://matplotlib.org/3.2.1/api/_as_gen/matplotlib.pyplot.grid.html) to the chart to better see the years and the U/E rate values. Use dashes for the line style<br>\n",
        "5. Can you discern any seasonality in the searches? Is there a pattern?"
      ]
    },
    {
      "cell_type": "code",
      "execution_count": 38,
      "metadata": {
        "id": "rv6d9VD73nyQ"
      },
      "outputs": [],
      "source": []
    },
    {
      "cell_type": "markdown",
      "metadata": {
        "id": "85ABuBhR3nyQ"
      },
      "source": [
        "**Challenge**: Calculate the 3-month or 6-month rolling average for the web searches. Plot the 6-month rolling average search data against the actual unemployment. What do you see in the chart? Which line moves first?\n"
      ]
    },
    {
      "cell_type": "code",
      "execution_count": 38,
      "metadata": {
        "id": "3sP5QuRL3nyQ"
      },
      "outputs": [],
      "source": []
    },
    {
      "cell_type": "markdown",
      "metadata": {
        "id": "uuU5rfj43nyQ"
      },
      "source": [
        "### Including 2020 in Unemployment Charts"
      ]
    },
    {
      "cell_type": "markdown",
      "metadata": {
        "id": "gVkWKiRM3nyR"
      },
      "source": [
        "**Challenge**: Read the data in the 'UE Benefits Search vs UE Rate 2004-20.csv' into a DataFrame. Convert the MONTH column to Pandas Datetime objects and then plot the chart. What do you see?"
      ]
    },
    {
      "cell_type": "code",
      "execution_count": 38,
      "metadata": {
        "id": "xV6MfL_e3nyR"
      },
      "outputs": [],
      "source": []
    },
    {
      "cell_type": "code",
      "execution_count": 38,
      "metadata": {
        "id": "R8ApPrQZ3nyR"
      },
      "outputs": [],
      "source": []
    },
    {
      "cell_type": "code",
      "execution_count": 38,
      "metadata": {
        "id": "GWKywkK93nyR"
      },
      "outputs": [],
      "source": []
    }
  ],
  "metadata": {
    "kernelspec": {
      "display_name": "Python 3",
      "language": "python",
      "name": "python3"
    },
    "language_info": {
      "codemirror_mode": {
        "name": "ipython",
        "version": 3
      },
      "file_extension": ".py",
      "mimetype": "text/x-python",
      "name": "python",
      "nbconvert_exporter": "python",
      "pygments_lexer": "ipython3",
      "version": "3.7.3"
    },
    "colab": {
      "provenance": []
    }
  },
  "nbformat": 4,
  "nbformat_minor": 0
}