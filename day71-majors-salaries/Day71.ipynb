{
  "nbformat": 4,
  "nbformat_minor": 0,
  "metadata": {
    "colab": {
      "provenance": []
    },
    "kernelspec": {
      "name": "python3",
      "display_name": "Python 3"
    },
    "language_info": {
      "name": "python"
    }
  },
  "cells": [
    {
      "cell_type": "code",
      "execution_count": 51,
      "metadata": {
        "id": "Mb1S83dOE_OS"
      },
      "outputs": [],
      "source": [
        "import pandas as pd\n",
        "import numpy as np"
      ]
    },
    {
      "cell_type": "code",
      "source": [
        "df = pd.read_csv('salaries_by_college_major.csv', low_memory=False)"
      ],
      "metadata": {
        "id": "1ZpSPXQJFGoe"
      },
      "execution_count": 52,
      "outputs": []
    },
    {
      "cell_type": "code",
      "source": [
        "df .head()"
      ],
      "metadata": {
        "id": "xlon6q4VFPh9"
      },
      "execution_count": null,
      "outputs": []
    },
    {
      "cell_type": "code",
      "source": [
        "df.shape"
      ],
      "metadata": {
        "id": "HedMlq8-FVI_"
      },
      "execution_count": null,
      "outputs": []
    },
    {
      "cell_type": "code",
      "source": [
        "df.columns"
      ],
      "metadata": {
        "id": "BOWDCnk2Fl9w"
      },
      "execution_count": null,
      "outputs": []
    },
    {
      "cell_type": "code",
      "source": [
        "df.describe()"
      ],
      "metadata": {
        "id": "orLWABdMFnxE"
      },
      "execution_count": null,
      "outputs": []
    },
    {
      "cell_type": "code",
      "source": [
        "# number of missing values in each column\n",
        "df.isna().sum()"
      ],
      "metadata": {
        "id": "66GhOGCwFrjV"
      },
      "execution_count": null,
      "outputs": []
    },
    {
      "cell_type": "code",
      "source": [
        "# (row) indices where there are any missing values\n",
        "df[df.isna().any(axis=1)].index"
      ],
      "metadata": {
        "id": "JBS3TXDbF5sZ"
      },
      "execution_count": null,
      "outputs": []
    },
    {
      "cell_type": "code",
      "source": [
        "df.loc[50]"
      ],
      "metadata": {
        "id": "CzqGnlk5HwtC"
      },
      "execution_count": null,
      "outputs": []
    },
    {
      "cell_type": "code",
      "source": [
        "df = df.dropna()"
      ],
      "metadata": {
        "id": "-x09jbekJPaj"
      },
      "execution_count": 28,
      "outputs": []
    },
    {
      "cell_type": "code",
      "source": [
        "# highest starting median salary:\n",
        "df.loc[df['Starting Median Salary'].idxmax()]"
      ],
      "metadata": {
        "id": "bXMEpUiAJRn-"
      },
      "execution_count": null,
      "outputs": []
    },
    {
      "cell_type": "code",
      "source": [
        "# highest mid-career salary:\n",
        "df.loc[df['Mid-Career Median Salary'].idxmax()]"
      ],
      "metadata": {
        "id": "tQZ4fgeAJvMt"
      },
      "execution_count": null,
      "outputs": []
    },
    {
      "cell_type": "code",
      "source": [
        "# lowest starting median salary\n",
        "df.loc[df['Starting Median Salary'].idxmin()]"
      ],
      "metadata": {
        "id": "qIF3QWDDKlhr"
      },
      "execution_count": null,
      "outputs": []
    },
    {
      "cell_type": "code",
      "source": [
        "# lowest mid-career salary:\n",
        "df.loc[df['Mid-Career Median Salary'].idxmin()]"
      ],
      "metadata": {
        "id": "ROeMCWbGKxUZ"
      },
      "execution_count": null,
      "outputs": []
    },
    {
      "cell_type": "code",
      "source": [
        "df.insert(1, 'Spread', df['Mid-Career 90th Percentile Salary'] - df['Mid-Career 10th Percentile Salary'])\n",
        "df.head()"
      ],
      "metadata": {
        "id": "y726t-8GLAQP"
      },
      "execution_count": null,
      "outputs": []
    },
    {
      "cell_type": "code",
      "source": [
        "# lowest risk degrees\n",
        "df[['Undergraduate Major','Spread']].sort_values('Spread').head()"
      ],
      "metadata": {
        "id": "E6G3u0kTMQQx"
      },
      "execution_count": null,
      "outputs": []
    },
    {
      "cell_type": "code",
      "source": [
        "# degrees with the highest potential\n",
        "df[['Undergraduate Major', 'Mid-Career 90th Percentile Salary']].sort_values('Mid-Career 90th Percentile Salary', ascending=False).head()"
      ],
      "metadata": {
        "id": "hg6n9wk-MfYh"
      },
      "execution_count": null,
      "outputs": []
    },
    {
      "cell_type": "code",
      "source": [
        "# degrees with the biggest spread\n",
        "df[['Undergraduate Major','Spread']].sort_values('Spread', ascending=False).head()"
      ],
      "metadata": {
        "id": "DuuG2jEjNBWI"
      },
      "execution_count": null,
      "outputs": []
    },
    {
      "cell_type": "code",
      "source": [
        "df.groupby('Group').count()"
      ],
      "metadata": {
        "id": "NmrVCCekNBPz"
      },
      "execution_count": null,
      "outputs": []
    },
    {
      "cell_type": "code",
      "source": [
        "pd.options.display.float_format = '{:,.2f}'.format\n",
        "df.groupby('Group').mean()"
      ],
      "metadata": {
        "id": "LY2YlwmFO-Xt"
      },
      "execution_count": null,
      "outputs": []
    },
    {
      "cell_type": "code",
      "source": [],
      "metadata": {
        "id": "IPiHBeKKP3ZE"
      },
      "execution_count": null,
      "outputs": []
    }
  ]
}